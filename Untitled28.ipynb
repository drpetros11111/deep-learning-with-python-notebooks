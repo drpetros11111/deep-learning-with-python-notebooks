{
  "nbformat": 4,
  "nbformat_minor": 0,
  "metadata": {
    "colab": {
      "provenance": [],
      "authorship_tag": "ABX9TyOzU9EQPEuGpMg+sdqutmMR",
      "include_colab_link": true
    },
    "kernelspec": {
      "name": "python3",
      "display_name": "Python 3"
    },
    "language_info": {
      "name": "python"
    }
  },
  "cells": [
    {
      "cell_type": "markdown",
      "metadata": {
        "id": "view-in-github",
        "colab_type": "text"
      },
      "source": [
        "<a href=\"https://colab.research.google.com/github/drpetros11111/deep-learning-with-python-notebooks/blob/pp_study/Untitled28.ipynb\" target=\"_parent\"><img src=\"https://colab.research.google.com/assets/colab-badge.svg\" alt=\"Open In Colab\"/></a>"
      ]
    },
    {
      "cell_type": "markdown",
      "source": [
        "# Import the Data"
      ],
      "metadata": {
        "id": "jm_iSk2ckyFP"
      }
    },
    {
      "cell_type": "code",
      "source": [
        "from tensorflow.keras.datasets import mnist\n",
        "(train_images, train_labels), (test_images, test_labels)= mnist.load_data()"
      ],
      "metadata": {
        "colab": {
          "base_uri": "https://localhost:8080/"
        },
        "id": "G00ZVZfJjnr3",
        "outputId": "e7df386b-5b1a-453a-f635-8df63f525a0d"
      },
      "execution_count": 3,
      "outputs": [
        {
          "output_type": "stream",
          "name": "stdout",
          "text": [
            "Downloading data from https://storage.googleapis.com/tensorflow/tf-keras-datasets/mnist.npz\n",
            "\u001b[1m11490434/11490434\u001b[0m \u001b[32m━━━━━━━━━━━━━━━━━━━━\u001b[0m\u001b[37m\u001b[0m \u001b[1m1s\u001b[0m 0us/step\n"
          ]
        }
      ]
    },
    {
      "cell_type": "markdown",
      "source": [
        "# Define the network architecture"
      ],
      "metadata": {
        "id": "58b9FwE-kvCN"
      }
    },
    {
      "cell_type": "code",
      "source": [
        "from tensorflow import keras\n",
        "from tensorflow.keras import layers\n",
        "\n",
        "model= keras.Sequential([\n",
        "    layers.Dense(512, activation='relu'),\n",
        "    layers.Dense(10, activation='softmax')\n",
        "\n",
        "])"
      ],
      "metadata": {
        "id": "Z5u6CNb2ic6G"
      },
      "execution_count": 5,
      "outputs": []
    },
    {
      "cell_type": "markdown",
      "source": [
        "Define the compilation architecture"
      ],
      "metadata": {
        "id": "oe6wSNM0lFE4"
      }
    },
    {
      "cell_type": "code",
      "source": [
        "model.compile(optimizer='rmsprop',\n",
        "             loss='sparse_categorical_crossentropy',\n",
        "              metrics=['accuracy'])"
      ],
      "metadata": {
        "id": "8-Jj4H2_lf6H"
      },
      "execution_count": 6,
      "outputs": []
    },
    {
      "cell_type": "markdown",
      "source": [
        "# Preprocess the Data"
      ],
      "metadata": {
        "id": "lx63XvvpnG-T"
      }
    },
    {
      "cell_type": "code",
      "source": [
        "train_images = train_images.reshape((60000, 28*28))\n",
        "train_images = train_images.astype('float32')/255\n",
        "test_images = test_images.reshape((10000, 28*28))\n",
        "test_images = test_images.astype('float32')/255"
      ],
      "metadata": {
        "id": "WZBLxKFmno95"
      },
      "execution_count": 8,
      "outputs": []
    },
    {
      "cell_type": "markdown",
      "source": [
        "# Flatten & Reshape the input images -inside parenthesis flattens, external parenthesis reshapes\n",
        "\n",
        "The double parentheses in the line\n",
        "\n",
        "    train_images = train_images.reshape((60000, 28*28))\n",
        "    \n",
        "are used because the reshape function in Python expects a single argument: a tuple that defines the new shape of the array.\n",
        "\n",
        "In this case, reshape((60000, 28*28)) means that the array train_images will be reshaped into an array with 60,000 rows, where each row is flattened into a single vector of 28*28 (784) elements.\n",
        "\n",
        "##The inner parentheses define the tuple (60000, 784), flattens (28*28 = 784), 60000 images .\n",
        "\n",
        "Here’s why double parentheses are used:\n",
        "\n",
        "The first set of parentheses is for calling the reshape function.\n",
        "\n",
        "The second set of parentheses encloses the tuple (60000, 28*28), which defines the new shape.\n",
        "\n",
        "If we didn't use the double parentheses, the function would not receive a tuple, and Python would raise an error."
      ],
      "metadata": {
        "id": "Ui1E8u9wpHCm"
      }
    },
    {
      "cell_type": "code",
      "source": [
        "28*28"
      ],
      "metadata": {
        "colab": {
          "base_uri": "https://localhost:8080/"
        },
        "id": "TuoLDie0scrv",
        "outputId": "a025bb81-fce2-4cba-d068-9f02b7bdadae"
      },
      "execution_count": 9,
      "outputs": [
        {
          "output_type": "execute_result",
          "data": {
            "text/plain": [
              "784"
            ]
          },
          "metadata": {},
          "execution_count": 9
        }
      ]
    }
  ]
}