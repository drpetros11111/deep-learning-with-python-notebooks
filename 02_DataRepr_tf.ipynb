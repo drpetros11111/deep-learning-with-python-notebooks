{
  "nbformat": 4,
  "nbformat_minor": 0,
  "metadata": {
    "colab": {
      "provenance": [],
      "authorship_tag": "ABX9TyNEjixZepOqnsSxlidwS2pm",
      "include_colab_link": true
    },
    "kernelspec": {
      "name": "python3",
      "display_name": "Python 3"
    },
    "language_info": {
      "name": "python"
    }
  },
  "cells": [
    {
      "cell_type": "markdown",
      "metadata": {
        "id": "view-in-github",
        "colab_type": "text"
      },
      "source": [
        "<a href=\"https://colab.research.google.com/github/drpetros11111/deep-learning-with-python-notebooks/blob/pp_study/02_DataRepr_tf.ipynb\" target=\"_parent\"><img src=\"https://colab.research.google.com/assets/colab-badge.svg\" alt=\"Open In Colab\"/></a>"
      ]
    },
    {
      "cell_type": "markdown",
      "source": [
        "# Data representations for neural networks"
      ],
      "metadata": {
        "id": "fSAmxRwICQ2K"
      }
    },
    {
      "cell_type": "code",
      "source": [
        "# TensorFlow for Linear Algebra and Matrix Operations\n",
        "import tensorflow as tf\n",
        "from tensorflow.linalg import inv, det, eig, svd, norm, cholesky, solve, eye, diag\n",
        "from tensorflow import matmul, reshape, transpose, reduce_sum\n",
        "\n",
        "# Matplotlib for plotting\n",
        "import matplotlib.pyplot as plt\n",
        "\n",
        "# Optional: NumPy for array handling (if needed for some use cases)\n",
        "import numpy as np\n"
      ],
      "metadata": {
        "id": "rQufhR1sDFaV"
      },
      "execution_count": 1,
      "outputs": []
    },
    {
      "cell_type": "markdown",
      "source": [
        "## Scalars (rank-0 tensors)"
      ],
      "metadata": {
        "id": "j4r4D6_ACXy8"
      }
    },
    {
      "cell_type": "code",
      "execution_count": 2,
      "metadata": {
        "colab": {
          "base_uri": "https://localhost:8080/"
        },
        "id": "5K-oTnU7CB5x",
        "outputId": "3652ffd7-5efd-4532-ef19-dbdc5562bd64"
      },
      "outputs": [
        {
          "output_type": "execute_result",
          "data": {
            "text/plain": [
              "array(12)"
            ]
          },
          "metadata": {},
          "execution_count": 2
        }
      ],
      "source": [
        "import numpy as np\n",
        "x = np.array(12)\n",
        "x"
      ]
    },
    {
      "cell_type": "code",
      "source": [
        "x.ndim"
      ],
      "metadata": {
        "colab": {
          "base_uri": "https://localhost:8080/"
        },
        "id": "5uxc7JVoDjeX",
        "outputId": "29f91d9e-8dd7-4da4-932d-3762d2d7d844"
      },
      "execution_count": 3,
      "outputs": [
        {
          "output_type": "execute_result",
          "data": {
            "text/plain": [
              "0"
            ]
          },
          "metadata": {},
          "execution_count": 3
        }
      ]
    },
    {
      "cell_type": "markdown",
      "source": [
        "## Vectors (rank-1 tensors)"
      ],
      "metadata": {
        "id": "gqyleAgSD5AD"
      }
    },
    {
      "cell_type": "code",
      "source": [
        "x = np.array([12, 3, 6, 14, 7])\n",
        "x"
      ],
      "metadata": {
        "id": "sZyjHAh8DyLt"
      },
      "execution_count": null,
      "outputs": []
    },
    {
      "cell_type": "code",
      "source": [
        "x =np.array([12, 3, 6, 14, 7 ])\n",
        "x\n",
        "x.ndim\n"
      ],
      "metadata": {
        "colab": {
          "base_uri": "https://localhost:8080/"
        },
        "id": "0McyaQdJEGxo",
        "outputId": "a8d28ca2-b71e-46da-b121-38531cfa7760"
      },
      "execution_count": 4,
      "outputs": [
        {
          "output_type": "execute_result",
          "data": {
            "text/plain": [
              "1"
            ]
          },
          "metadata": {},
          "execution_count": 4
        }
      ]
    },
    {
      "cell_type": "markdown",
      "source": [
        "# Syntax of a function call\n",
        "In the expression x = np.array([12, 3, 6, 14, 7]), both parentheses and brackets serve specific purposes:\n",
        "\n",
        "------------------------------------\n",
        "##Breakdown of the Syntax:\n",
        "    np.array(...)\n",
        "\n",
        "##Parentheses (...):\n",
        "\n",
        "The function np.array() is called with its argument(s) inside parentheses.\n",
        "\n",
        "In Python, parentheses are used to call functions and pass arguments to them.\n",
        "\n",
        "Here, you are calling the array function from the numpy library (aliased as np), which converts a list (or other array-like structures) into a NumPy array.\n",
        "\n",
        "     [12, 3, 6, 14, 7]:\n",
        "\n",
        "##Brackets [...]:\n",
        "\n",
        "The square brackets are used to create a list in Python. In this case, [12, 3, 6, 14, 7] is a list of integers.\n",
        "\n",
        "This list is passed as an argument to the np.array() function, which converts it into a NumPy array.\n",
        "\n",
        "------------------------------\n",
        "#Summary\n",
        "Function Call: The parentheses are necessary for calling the np.array function.\n",
        "\n",
        "List Creation: The brackets are used to define the list of values that you want to convert into an array."
      ],
      "metadata": {
        "id": "3GMdwON6FZED"
      }
    },
    {
      "cell_type": "markdown",
      "source": [
        "# Matrices (rank-2 tensors)"
      ],
      "metadata": {
        "id": "ew77wA9rGs09"
      }
    },
    {
      "cell_type": "code",
      "source": [
        "x = np.array([[5, 78, 2, 34, 0],\n",
        "              [6, 79, 3, 35, 1],\n",
        "              [7, 80, 4, 36, 2]])\n",
        "x.ndim\n",
        "\n"
      ],
      "metadata": {
        "colab": {
          "base_uri": "https://localhost:8080/"
        },
        "id": "S4SetywsGx4t",
        "outputId": "da1eaacc-d28e-471e-fbe1-112800e064f6"
      },
      "execution_count": 7,
      "outputs": [
        {
          "output_type": "execute_result",
          "data": {
            "text/plain": [
              "2"
            ]
          },
          "metadata": {},
          "execution_count": 7
        }
      ]
    },
    {
      "cell_type": "code",
      "source": [
        "x.shape"
      ],
      "metadata": {
        "colab": {
          "base_uri": "https://localhost:8080/"
        },
        "id": "eH3hR0GVHWX8",
        "outputId": "4c5e6d3b-7d25-4bfc-d21c-8c21204da079"
      },
      "execution_count": 8,
      "outputs": [
        {
          "output_type": "execute_result",
          "data": {
            "text/plain": [
              "(3, 5)"
            ]
          },
          "metadata": {},
          "execution_count": 8
        }
      ]
    },
    {
      "cell_type": "code",
      "source": [
        "y = np.array([[1, 2, 3, 4, 5],\n",
        "              [6, 7, 8, 9, 99],\n",
        "              [7, 77, 9, 88, 11]])\n",
        "y.ndim"
      ],
      "metadata": {
        "colab": {
          "base_uri": "https://localhost:8080/"
        },
        "id": "UgfmG-buHfUU",
        "outputId": "9e39ebb2-078b-412b-c6de-beea46bea82b"
      },
      "execution_count": 10,
      "outputs": [
        {
          "output_type": "execute_result",
          "data": {
            "text/plain": [
              "2"
            ]
          },
          "metadata": {},
          "execution_count": 10
        }
      ]
    },
    {
      "cell_type": "code",
      "source": [
        "y.shape"
      ],
      "metadata": {
        "colab": {
          "base_uri": "https://localhost:8080/"
        },
        "id": "KfjTqoZWIJTp",
        "outputId": "65c5dbfc-0c3a-4707-be51-16e45e853fe5"
      },
      "execution_count": 11,
      "outputs": [
        {
          "output_type": "execute_result",
          "data": {
            "text/plain": [
              "(3, 5)"
            ]
          },
          "metadata": {},
          "execution_count": 11
        }
      ]
    },
    {
      "cell_type": "markdown",
      "source": [
        "# Rank-3 and higher-rank tensors"
      ],
      "metadata": {
        "id": "wUemhwCFINc4"
      }
    },
    {
      "cell_type": "code",
      "source": [
        "x = np.array([[[5, 78, 2, 34, 0],\n",
        "               [6, 79, 3, 35, 1],\n",
        "               [7, 80, 4, 36, 2]],\n",
        "              [[5, 78, 2, 34, 0],\n",
        "               [6, 79, 3, 35, 1],\n",
        "               [7, 80, 4, 36, 2]],\n",
        "              [[5, 78, 2, 34, 0],\n",
        "               [6, 79, 3, 35, 1],\n",
        "               [7, 80, 4, 36, 2]]])\n"
      ],
      "metadata": {
        "id": "g3ksQvAWIV0b"
      },
      "execution_count": null,
      "outputs": []
    },
    {
      "cell_type": "code",
      "source": [
        "x.ndim"
      ],
      "metadata": {
        "id": "_avmo2rHIlI4",
        "outputId": "5941c276-2f71-49fa-f959-7b5aa45d7751",
        "colab": {
          "base_uri": "https://localhost:8080/"
        }
      },
      "execution_count": 13,
      "outputs": [
        {
          "output_type": "execute_result",
          "data": {
            "text/plain": [
              "3"
            ]
          },
          "metadata": {},
          "execution_count": 13
        }
      ]
    },
    {
      "cell_type": "code",
      "source": [
        "x.shape"
      ],
      "metadata": {
        "id": "_F7SRdMdIpEv",
        "outputId": "7a1fb797-cfe6-4034-f664-0daae62e8f86",
        "colab": {
          "base_uri": "https://localhost:8080/"
        }
      },
      "execution_count": 14,
      "outputs": [
        {
          "output_type": "execute_result",
          "data": {
            "text/plain": [
              "(3, 3, 5)"
            ]
          },
          "metadata": {},
          "execution_count": 14
        }
      ]
    },
    {
      "cell_type": "markdown",
      "source": [
        "# Key attributes"
      ],
      "metadata": {
        "id": "WCc2-I9JJIWX"
      }
    },
    {
      "cell_type": "code",
      "source": [
        "from tensorflow.keras.datasets import mnist\n",
        "(train_images, train_labels), (test_images, test_labels) = mnist.load_data()"
      ],
      "metadata": {
        "id": "dvO8Lf49JN2A",
        "outputId": "54ec0868-176b-47d7-ff51-f37a08830c91",
        "colab": {
          "base_uri": "https://localhost:8080/"
        }
      },
      "execution_count": 15,
      "outputs": [
        {
          "output_type": "stream",
          "name": "stdout",
          "text": [
            "Downloading data from https://storage.googleapis.com/tensorflow/tf-keras-datasets/mnist.npz\n",
            "\u001b[1m11490434/11490434\u001b[0m \u001b[32m━━━━━━━━━━━━━━━━━━━━\u001b[0m\u001b[37m\u001b[0m \u001b[1m0s\u001b[0m 0us/step\n"
          ]
        }
      ]
    },
    {
      "cell_type": "code",
      "source": [
        "train_images.ndim\n"
      ],
      "metadata": {
        "id": "lR6tRrODJUTy",
        "outputId": "4cfba3e9-5e6c-4e9d-fce0-61fd4ddb8ca9",
        "colab": {
          "base_uri": "https://localhost:8080/"
        }
      },
      "execution_count": 17,
      "outputs": [
        {
          "output_type": "execute_result",
          "data": {
            "text/plain": [
              "3"
            ]
          },
          "metadata": {},
          "execution_count": 17
        }
      ]
    },
    {
      "cell_type": "code",
      "source": [
        "train_images.shape"
      ],
      "metadata": {
        "id": "SVAhyqYwJjeD",
        "outputId": "ef919812-7f79-46b2-d2c1-59dc7268318e",
        "colab": {
          "base_uri": "https://localhost:8080/"
        }
      },
      "execution_count": 20,
      "outputs": [
        {
          "output_type": "execute_result",
          "data": {
            "text/plain": [
              "(60000, 28, 28)"
            ]
          },
          "metadata": {},
          "execution_count": 20
        }
      ]
    },
    {
      "cell_type": "code",
      "source": [
        "test_images.ndim"
      ],
      "metadata": {
        "id": "3mpmcp_eJdxe",
        "outputId": "47e86d38-21ba-454d-c77d-a8bc7acd7bec",
        "colab": {
          "base_uri": "https://localhost:8080/"
        }
      },
      "execution_count": 19,
      "outputs": [
        {
          "output_type": "execute_result",
          "data": {
            "text/plain": [
              "3"
            ]
          },
          "metadata": {},
          "execution_count": 19
        }
      ]
    },
    {
      "cell_type": "code",
      "source": [
        "test_images.shape"
      ],
      "metadata": {
        "id": "JJcUh9oeJo2C",
        "outputId": "27c18cbe-5fd4-4f92-af87-599625fd929a",
        "colab": {
          "base_uri": "https://localhost:8080/"
        }
      },
      "execution_count": 21,
      "outputs": [
        {
          "output_type": "execute_result",
          "data": {
            "text/plain": [
              "(10000, 28, 28)"
            ]
          },
          "metadata": {},
          "execution_count": 21
        }
      ]
    },
    {
      "cell_type": "markdown",
      "source": [
        "# Displaying the fourth digit - mnist includes 0-9 digits"
      ],
      "metadata": {
        "id": "nFuzSoIrJyI8"
      }
    },
    {
      "cell_type": "code",
      "source": [
        "digit = train_images[4]\n",
        "plt.imshow(digit, cmap= plt.cm.binary)\n",
        "plt.show()"
      ],
      "metadata": {
        "id": "hXYQYlJmKEzj",
        "outputId": "5fe01703-48a9-4d3b-906a-81abe28a565a",
        "colab": {
          "base_uri": "https://localhost:8080/",
          "height": 430
        }
      },
      "execution_count": 22,
      "outputs": [
        {
          "output_type": "display_data",
          "data": {
            "text/plain": [
              "<Figure size 640x480 with 1 Axes>"
            ],
            "image/png": "[encoded data removed]"
          },
          "metadata": {}
        }
      ]
    },
    {
      "cell_type": "markdown",
      "source": [
        "# Display one digit, i.e., the digit '4'\n",
        "\n",
        "-------------------------------------\n",
        "## digit = train_images[4]:\n",
        "\n",
        "This line accesses the fifth image (index 4, since indexing starts at 0) from the train_images array and assigns it to the variable digit.\n",
        "\n",
        "Here, train_images is typically a NumPy array containing multiple images (e.g., images of handwritten digits in the MNIST dataset), and each image is usually represented as a 2D array of pixel values.\n",
        "\n",
        "---------------------------------\n",
        "##plt.imshow(digit, cmap=plt.cm.binary):\n",
        "\n",
        "This line uses the imshow function from the matplotlib.pyplot module (aliased as plt) to display the image stored in digit.\n",
        "\n",
        "##digit:\n",
        "The 2D array representing the pixel values of the image.\n",
        "\n",
        "Each value corresponds to the brightness of a pixel, with lower values typically indicating darker pixels and higher values indicating lighter pixels.\n",
        "\n",
        "##cmap=plt.cm.binary:\n",
        "The cmap parameter specifies the color map used to display the image.\n",
        "\n",
        "Here, plt.cm.binary is a colormap that converts pixel values to black and white, where lower values (darker pixels) will appear black, and higher values (lighter pixels) will appear white.\n",
        "\n",
        "This is particularly useful for visualizing grayscale images like those found in the MNIST dataset.\n",
        "\n",
        "-----------------------\n",
        "##plt.show():\n",
        "\n",
        "This command displays the figure created by plt.imshow(). It renders the image in a separate window or inline in a Jupyter Notebook, allowing you to see the output.\n",
        "\n",
        "-----------------------------\n",
        "#Summary\n",
        "Purpose: This code snippet retrieves the fifth image from the training dataset, visualizes it as a binary image (black and white), and displays it.\n",
        "\n",
        "Outcome: After running the code, you should see the digit (the fifth one from the dataset) rendered as a grayscale image.\n",
        "\n",
        "-------------------\n",
        "#Example Scenario\n",
        "\n",
        "If you're working with the MNIST dataset, which consists of images of handwritten digits (0-9), this code would allow you to visualize what the digit at index 4 looks like.\n",
        "\n",
        "It helps in understanding how the model perceives and processes images during training or evaluation.\n"
      ],
      "metadata": {
        "id": "mFoi8vWUKrQB"
      }
    },
    {
      "cell_type": "code",
      "source": [
        "train_labels[4]"
      ],
      "metadata": {
        "id": "iNNNz-UsJraq",
        "outputId": "f0073d6a-ddf3-49f4-f880-4ccf0a7dde3f",
        "colab": {
          "base_uri": "https://localhost:8080/"
        }
      },
      "execution_count": 23,
      "outputs": [
        {
          "output_type": "execute_result",
          "data": {
            "text/plain": [
              "9"
            ]
          },
          "metadata": {},
          "execution_count": 23
        }
      ]
    }
  ]
}